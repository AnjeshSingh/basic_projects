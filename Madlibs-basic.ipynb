{
 "cells": [
  {
   "cell_type": "markdown",
   "metadata": {},
   "source": [
    "# MadLibs"
   ]
  },
  {
   "cell_type": "code",
   "execution_count": null,
   "metadata": {},
   "outputs": [],
   "source": [
    "# It's a very simple and basic Python code to create Madlibs game \n",
    "# Enjoy the Game "
   ]
  },
  {
   "cell_type": "code",
   "execution_count": null,
   "metadata": {},
   "outputs": [],
   "source": [
    "adj1 = input(\"Adjective: \")\n",
    "adj2 = input(\"Adjective: \")\n",
    "adj3 = input(\"Adjective: \")\n",
    "adj4 = input(\"Adjective: \")\n",
    "adj5 = input(\"Adjective: \")\n",
    "adj6 = input(\"Adjective: \")\n",
    "adj7 = input(\"Adjective: \")\n",
    "noun1 = input(\"Noun: \")\n",
    "noun2 = input(\"Noun: \")\n",
    "noun3 = input(\"Noun: \")\n",
    "noun4 = input(\"Noun: \")\n",
    "verb1 = input(\"Verb: \")\n",
    "verb2 = input(\"Verb: \")\n",
    "verb3 = input(\"Verb: \")\n",
    "verb4 = input(\"Verb: \")\n",
    "\n",
    "\n",
    "madlib = f\"I walk through the color jungle. I take out my {adj1} canteen. \\n \\\n",
    "There's a {adj2} parrot with a {adj3} {noun1} in his mouth right there in front of me in the {adj4} trees!  gaze at his {adj5}{noun2}. \\n \\\n",
    "A sudden sound awakes me from my daydream! A panther’s {verb1} in front of my head! \\n \\\n",
    "I {verb2} his {adj6} breath. I remember I have a packet of {noun3} that makes go into a deep slumber! \\n \\\n",
    "I {verb3}it away from me in front of the {noun4}.\\n \\\n",
    "Yes he's eating it! I {verb4} away through the {adj7} jungle. \\n\n",
    "I meet my parents at the tent. Phew! It’s been an exciting day in the jungle. \"\n",
    "\n",
    "print(madlib)"
   ]
  },
  {
   "cell_type": "code",
   "execution_count": null,
   "metadata": {},
   "outputs": [],
   "source": []
  }
 ],
 "metadata": {
  "kernelspec": {
   "display_name": "Python 3",
   "language": "python",
   "name": "python3"
  },
  "language_info": {
   "codemirror_mode": {
    "name": "ipython",
    "version": 3
   },
   "file_extension": ".py",
   "mimetype": "text/x-python",
   "name": "python",
   "nbconvert_exporter": "python",
   "pygments_lexer": "ipython3",
   "version": "3.8.5"
  }
 },
 "nbformat": 4,
 "nbformat_minor": 4
}
